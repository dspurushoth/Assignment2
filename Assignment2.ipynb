{
 "cells": [
  {
   "cell_type": "markdown",
   "metadata": {},
   "source": [
    "# Task 1:"
   ]
  },
  {
   "cell_type": "markdown",
   "metadata": {},
   "source": [
    "1.1 Write a Python Program to implement your own myreduce() function which works exactly like\n",
    "Python's built-in function reduce()"
   ]
  },
  {
   "cell_type": "code",
   "execution_count": 17,
   "metadata": {},
   "outputs": [
    {
     "data": {
      "text/plain": [
       "10"
      ]
     },
     "execution_count": 17,
     "metadata": {},
     "output_type": "execute_result"
    }
   ],
   "source": [
    "def funsum (x,y):\n",
    "    return x+y\n",
    "\n",
    "def myreduce (fun,lst):\n",
    "    result=lst[0]\n",
    "    for i in lst[1:]:\n",
    "        result=fun(result,i)\n",
    "    return result\n",
    "\n",
    "lst=[1,2,3,4]\n",
    "myreduce(funsum,lst)\n"
   ]
  },
  {
   "cell_type": "markdown",
   "metadata": {},
   "source": [
    "1.2 Write a Python program to implement your own myfilter() function which works exactly like\n",
    "Python's built-in function filter()"
   ]
  },
  {
   "cell_type": "code",
   "execution_count": 29,
   "metadata": {},
   "outputs": [
    {
     "data": {
      "text/plain": [
       "[0, 2, 4, 6, 8, 10, 12, 14, 16, 18]"
      ]
     },
     "execution_count": 29,
     "metadata": {},
     "output_type": "execute_result"
    }
   ],
   "source": [
    "def even_check(num):\n",
    "    if num%2 ==0:\n",
    "        return True\n",
    "\n",
    "def myfilter(fun,lst):\n",
    "    retlst=[]\n",
    "    for i in lst[:]:\n",
    "        \n",
    "        if(fun(i)):\n",
    "           retlst.append(i)\n",
    "    return retlst\n",
    "\n",
    "lst=range(20)\n",
    "myfilter(even_check,lst)\n"
   ]
  },
  {
   "cell_type": "markdown",
   "metadata": {},
   "source": [
    "2.Implement List comprehensions to produce the following lists.\n",
    "Write List comprehensions to produce the following Lists"
   ]
  },
  {
   "cell_type": "code",
   "execution_count": 5,
   "metadata": {},
   "outputs": [
    {
     "name": "stdout",
     "output_type": "stream",
     "text": [
      "['A', 'C', 'A', 'D', 'G', 'I', 'L', 'D']\n"
     ]
    }
   ],
   "source": [
    "lst = [i for i in \"ACADGILD\"]\n",
    "print(lst)\n",
    "\n",
    "\n"
   ]
  },
  {
   "cell_type": "code",
   "execution_count": 7,
   "metadata": {},
   "outputs": [
    {
     "name": "stdout",
     "output_type": "stream",
     "text": [
      "['x', 'xx', 'xxx', 'xxxx', 'y', 'yy', 'yyy', 'yyyy', 'z', 'zz', 'zzz', 'zzzz']\n"
     ]
    }
   ],
   "source": [
    "#['x', 'xx', 'xxx', 'xxxx', 'y', 'yy', 'yyy', 'yyyy', 'z', 'zz', 'zzz', 'zzzz']\n",
    "\n",
    "lst = [\"x\",\"y\",\"z\"]\n",
    "returnlst= [e*i for e in lst for i in range(1,5)]\n",
    "\n",
    "print (returnlst)\n",
    "\n"
   ]
  },
  {
   "cell_type": "code",
   "execution_count": 17,
   "metadata": {},
   "outputs": [
    {
     "name": "stdout",
     "output_type": "stream",
     "text": [
      "['x', 'y', 'z', 'xx', 'yy', 'zz', 'xxx', 'yyy', 'zzz']\n"
     ]
    }
   ],
   "source": [
    "#['x', 'y', 'z', 'xx', 'yy', 'zz', 'xx', 'yy', 'zz', 'xxxx', 'yyyy', 'zzzz']\n",
    "\n",
    "lst = [\"x\",\"y\",\"z\"]\n",
    "resultlst=[e*i for i in range(1,5) for e in lst]\n",
    "print (resultlst)"
   ]
  },
  {
   "cell_type": "code",
   "execution_count": 37,
   "metadata": {},
   "outputs": [
    {
     "name": "stdout",
     "output_type": "stream",
     "text": [
      "[[2], [3], [4], [3], [4], [5], [4], [5], [6]]\n"
     ]
    }
   ],
   "source": [
    "#[[2], [3], [4], [3], [4], [5], [4], [5], [6]]\n",
    "\n",
    "lst=[2,3,4]\n",
    "\n",
    "resultlst=[[n+i] for n in lst for i in range(0,3)]\n",
    "\n",
    "print (resultlst)"
   ]
  },
  {
   "cell_type": "code",
   "execution_count": 40,
   "metadata": {},
   "outputs": [
    {
     "name": "stdout",
     "output_type": "stream",
     "text": [
      "[[2, 3, 4, 5], [3, 4, 5, 6], [4, 5, 6, 7], [5, 6, 7, 8]]\n"
     ]
    }
   ],
   "source": [
    "#[[2, 3, 4, 5], [3, 4, 5, 6], [4, 5, 6, 7], [5, 6, 7, 8]]\n",
    "lst=[2,3,4,5]\n",
    "resultlst=[[n+i for n in lst] for i in range(0,4)]\n",
    "\n",
    "print (resultlst)"
   ]
  },
  {
   "cell_type": "code",
   "execution_count": 44,
   "metadata": {},
   "outputs": [
    {
     "name": "stdout",
     "output_type": "stream",
     "text": [
      "[(1, 1), (2, 1), (3, 1), (1, 2), (2, 2), (3, 2), (1, 3), (2, 3), (3, 3)]\n"
     ]
    }
   ],
   "source": [
    "#[(1, 1), (2, 1), (3, 1), (1, 2), (2, 2), (3, 2), (1, 3), (2, 3), (3, 3)]\n",
    "\n",
    "lst=[(n,i) for i in range(1,4) for n in range(1,4)]\n",
    "print(lst)\n",
    "\n"
   ]
  },
  {
   "cell_type": "code",
   "execution_count": 52,
   "metadata": {},
   "outputs": [
    {
     "name": "stdout",
     "output_type": "stream",
     "text": [
      "longest\n"
     ]
    }
   ],
   "source": [
    "#3.Implement a function longestWord() that takes a list of words and returns the longest one.\n",
    "\n",
    "def logestwork(l):\n",
    "    longestword=''\n",
    "    for e in l:\n",
    "        if len(e)>len(longestword):\n",
    "            longestword=e\n",
    "    return longestword\n",
    "        \n",
    "    \n",
    "lst=['long','longer','longest']\n",
    "\n",
    "result= logestwork(lst)\n",
    "print (result)"
   ]
  },
  {
   "cell_type": "markdown",
   "metadata": {},
   "source": [
    "# TASK 2"
   ]
  },
  {
   "cell_type": "markdown",
   "metadata": {},
   "source": [
    "1.1\n",
    "Write a Python Program(with class concepts) to find the area of the triangle using the below\n",
    "formula.\n",
    "\n",
    "area = (s*(s-a)*(s-b)*(s-c)) ** 0.5\n",
    "\n",
    "Function to take the length of the sides of triangle from user should be defined in the parent\n",
    "class and function to calculate the area should be defined in subclass."
   ]
  },
  {
   "cell_type": "code",
   "execution_count": 49,
   "metadata": {},
   "outputs": [
    {
     "name": "stdout",
     "output_type": "stream",
     "text": [
      "Enter Length for Side A: 10\n",
      "Enter Length for Side B: 11\n",
      "Enter Length for Side C: 15\n",
      "Area of Triangel is 54.99\n"
     ]
    }
   ],
   "source": [
    "class traiangleParent:\n",
    "      \n",
    "    def getsides(self):\n",
    "        try:\n",
    "            self.a=float(input(\"Enter Length for Side A: \"))\n",
    "            self.b=float(input(\"Enter Length for Side B: \"))\n",
    "            self.c=float(input(\"Enter Length for Side C: \"))\n",
    "        except ValueError:\n",
    "            print(\"Input should be in number\")\n",
    "            self.getsides()\n",
    "\n",
    "            \n",
    "            \n",
    "class lengthoftriangle(traiangleParent):\n",
    "    \n",
    "    def getlenofsides(self):\n",
    "        try:\n",
    "            s=float((self.a+self.b+self.c)/2)\n",
    "            area=(s*(s-self.a)*(s-self.b)*(s-self.c)) **0.5\n",
    "            print('Area of Triangel is %0.2f' %area)\n",
    "        except:\n",
    "            print(\"Error in processing\")\n",
    "\n",
    "\n",
    "obj=lengthoftriangle()\n",
    "obj.getsides()\n",
    "obj.getlenofsides()\n"
   ]
  },
  {
   "cell_type": "markdown",
   "metadata": {},
   "source": [
    "1.2 Write a function filter_long_words() that takes a list of words and an integer n and returns the list\n",
    "of words that are longer than n."
   ]
  },
  {
   "cell_type": "code",
   "execution_count": 69,
   "metadata": {},
   "outputs": [
    {
     "name": "stdout",
     "output_type": "stream",
     "text": [
      "Enter length : 3\n",
      "Enter words : one two three four\n",
      "one\n",
      "two\n",
      "three\n",
      "four\n",
      "['three', 'four']\n"
     ]
    }
   ],
   "source": [
    "def filter_long_words():\n",
    "    n=int(input(\"Enter length : \"))\n",
    "    s=input(\"Enter words : \")\n",
    "    lst=s.split()\n",
    "    retlst=[]\n",
    "    for e in lst:\n",
    "        print (e)\n",
    "        if(len(e)>n):\n",
    "            retlst.append(e)\n",
    "    print(retlst)\n",
    "            \n",
    "filter_long_words()"
   ]
  },
  {
   "cell_type": "markdown",
   "metadata": {},
   "source": [
    "2.1 Write a Python program using function concept that maps list of words into a list of integers\n",
    "representing the lengths of the corresponding words.\n",
    "Hint: ​If a list [ ab,cde,erty] is passed on to the python function output should come as [2,3,4]\n",
    "Here 2,3 and 4 are the lengths of the words in the list."
   ]
  },
  {
   "cell_type": "code",
   "execution_count": 74,
   "metadata": {},
   "outputs": [
    {
     "name": "stdout",
     "output_type": "stream",
     "text": [
      "[1, 2, 3]\n"
     ]
    }
   ],
   "source": [
    "\n",
    "def maplen(s):\n",
    "    return len(s)\n",
    "\n",
    "lstinput=['a','bb','ccc']\n",
    "lstoutput=list(map(maplen,lstinput))\n",
    "print(lstoutput)\n",
    "    "
   ]
  },
  {
   "cell_type": "markdown",
   "metadata": {},
   "source": [
    "2.2 Write a Python function which takes a character (i.e. a string of length 1) and returns True if it is\n",
    "a vowel, False otherwise."
   ]
  },
  {
   "cell_type": "code",
   "execution_count": 80,
   "metadata": {},
   "outputs": [
    {
     "name": "stdout",
     "output_type": "stream",
     "text": [
      "False\n",
      "True\n"
     ]
    }
   ],
   "source": [
    "def fun(s):\n",
    "    lstvowel=['a','e','i','o','u']\n",
    "    if s in lstvowel:\n",
    "        return True\n",
    "    else:\n",
    "        return False\n",
    "\n",
    "print(fun('b'))\n",
    "print(fun('e'))"
   ]
  },
  {
   "cell_type": "code",
   "execution_count": null,
   "metadata": {},
   "outputs": [],
   "source": []
  }
 ],
 "metadata": {
  "kernelspec": {
   "display_name": "Python 3",
   "language": "python",
   "name": "python3"
  },
  "language_info": {
   "codemirror_mode": {
    "name": "ipython",
    "version": 3
   },
   "file_extension": ".py",
   "mimetype": "text/x-python",
   "name": "python",
   "nbconvert_exporter": "python",
   "pygments_lexer": "ipython3",
   "version": "3.7.0"
  }
 },
 "nbformat": 4,
 "nbformat_minor": 2
}
